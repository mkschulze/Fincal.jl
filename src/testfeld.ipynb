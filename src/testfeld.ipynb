{
 "cells": [
  {
   "cell_type": "code",
   "execution_count": 3,
   "metadata": {},
   "outputs": [],
   "source": [
    "using DataFrames\n",
    "using CSV\n",
    "using Arrow\n",
    "using LinearAlgebra, Statistics, Compat\n",
    "# susa = DataFrame(CSV.File(\"../data/example-2021.csv\"; drop=[\"col3\", \"col4\"]))\n",
    "# susa2 = CSV.read(\"../data/SuSa-2021.csv\", DataFrame; drop=[Symbol(\"BeraterNr\"),:MandantenNr,:Wirtschaftsjahr])\n"
   ]
  },
  {
   "cell_type": "code",
   "execution_count": 7,
   "metadata": {},
   "outputs": [
    {
     "data": {
      "text/plain": [
       "\"../data/SuSa-2022.arrow\""
      ]
     },
     "metadata": {},
     "output_type": "display_data"
    }
   ],
   "source": [
    "convert = Arrow.write(\"../data/SuSa-2022.arrow\", CSV.File(\"../data/SuSa-2022.csv\"))"
   ]
  },
  {
   "cell_type": "code",
   "execution_count": 10,
   "metadata": {},
   "outputs": [
    {
     "data": {
      "text/html": [
       "<div class=\"data-frame\"><p>6 rows × 4 columns</p><table class=\"data-frame\"><thead><tr><th></th><th>x1</th><th>x2</th><th>x3</th><th>x4</th></tr><tr><th></th><th title=\"Float64\">Float64</th><th title=\"Float64\">Float64</th><th title=\"Float64\">Float64</th><th title=\"Float64\">Float64</th></tr></thead><tbody><tr><th>1</th><td>1.0</td><td>1.0</td><td>1.0</td><td>1.0</td></tr><tr><th>2</th><td>1.0</td><td>1.0</td><td>1.0</td><td>1.0</td></tr><tr><th>3</th><td>1.0</td><td>1.0</td><td>1.0</td><td>1.0</td></tr><tr><th>4</th><td>1.0</td><td>1.0</td><td>1.0</td><td>1.0</td></tr><tr><th>5</th><td>1.0</td><td>1.0</td><td>1.0</td><td>1.0</td></tr><tr><th>6</th><td>1.0</td><td>1.0</td><td>1.0</td><td>1.0</td></tr></tbody></table></div>"
      ],
      "text/latex": [
       "\\begin{tabular}{r|cccc}\n",
       "\t& x1 & x2 & x3 & x4\\\\\n",
       "\t\\hline\n",
       "\t& Float64 & Float64 & Float64 & Float64\\\\\n",
       "\t\\hline\n",
       "\t1 & 1.0 & 1.0 & 1.0 & 1.0 \\\\\n",
       "\t2 & 1.0 & 1.0 & 1.0 & 1.0 \\\\\n",
       "\t3 & 1.0 & 1.0 & 1.0 & 1.0 \\\\\n",
       "\t4 & 1.0 & 1.0 & 1.0 & 1.0 \\\\\n",
       "\t5 & 1.0 & 1.0 & 1.0 & 1.0 \\\\\n",
       "\t6 & 1.0 & 1.0 & 1.0 & 1.0 \\\\\n",
       "\\end{tabular}\n"
      ],
      "text/plain": [
       "\u001b[1m6×4 DataFrame\u001b[0m\n",
       "\u001b[1m Row \u001b[0m│\u001b[1m x1      \u001b[0m\u001b[1m x2      \u001b[0m\u001b[1m x3      \u001b[0m\u001b[1m x4      \u001b[0m\n",
       "\u001b[1m     \u001b[0m│\u001b[90m Float64 \u001b[0m\u001b[90m Float64 \u001b[0m\u001b[90m Float64 \u001b[0m\u001b[90m Float64 \u001b[0m\n",
       "─────┼────────────────────────────────────\n",
       "   1 │     1.0      1.0      1.0      1.0\n",
       "   2 │     1.0      1.0      1.0      1.0\n",
       "   3 │     1.0      1.0      1.0      1.0\n",
       "   4 │     1.0      1.0      1.0      1.0\n",
       "   5 │     1.0      1.0      1.0      1.0\n",
       "   6 │     1.0      1.0      1.0      1.0"
      ]
     },
     "execution_count": 10,
     "metadata": {},
     "output_type": "execute_result"
    }
   ],
   "source": [
    "df = DataFrame(ones(I + 5, 4), :auto)"
   ]
  },
  {
   "cell_type": "code",
   "execution_count": 11,
   "metadata": {},
   "outputs": [
    {
     "data": {
      "text/html": [
       "<div class=\"data-frame\"><p>244 rows × 20 columns (omitted printing of 15 columns)</p><table class=\"data-frame\"><thead><tr><th></th><th>Kontonummer</th><th>Kontobezeichnung</th><th>BeraterNr</th><th>MandantenNr</th><th>Wirtschaftsjahr</th></tr><tr><th></th><th title=\"Int64\">Int64</th><th title=\"Union{Missing, String}\">String?</th><th title=\"Int64\">Int64</th><th title=\"Int64\">Int64</th><th title=\"Int64\">Int64</th></tr></thead><tbody><tr><th>1</th><td>210</td><td>Maschinen</td><td>58476</td><td>17006</td><td>2021</td></tr><tr><th>2</th><td>400</td><td>Betriebsausstattung</td><td>58476</td><td>17006</td><td>2021</td></tr><tr><th>3</th><td>420</td><td>Büroeinrichtung</td><td>58476</td><td>17006</td><td>2021</td></tr><tr><th>4</th><td>450</td><td>Einbauten in fremde Grundstücke</td><td>58476</td><td>17006</td><td>2021</td></tr><tr><th>5</th><td>480</td><td>Geringwertige Wirtschaftsgüter</td><td>58476</td><td>17006</td><td>2021</td></tr><tr><th>6</th><td>490</td><td>Sonstige Betriebs-u.Gesch.ausstattung</td><td>58476</td><td>17006</td><td>2021</td></tr><tr><th>7</th><td>650</td><td>Verbindlichkeiten Kreditinstitut(g.5J)</td><td>58476</td><td>17006</td><td>2021</td></tr><tr><th>8</th><td>880</td><td>Variables Kapital (VH), EK</td><td>58476</td><td>17006</td><td>2021</td></tr><tr><th>9</th><td>970</td><td>Sonstige Rückstellungen</td><td>58476</td><td>17006</td><td>2021</td></tr><tr><th>10</th><td>977</td><td>Rückstellungen für Abschluss u. Prüfung</td><td>58476</td><td>17006</td><td>2021</td></tr><tr><th>11</th><td>1000</td><td>Kasse</td><td>58476</td><td>17006</td><td>2021</td></tr><tr><th>12</th><td>1001</td><td>Barzahlung</td><td>58476</td><td>17006</td><td>2021</td></tr><tr><th>13</th><td>1200</td><td>Berl. Sparkasse 6603199333</td><td>58476</td><td>17006</td><td>2021</td></tr><tr><th>14</th><td>1230</td><td>Sparkasse  Mietkaution Kto ..6076</td><td>58476</td><td>17006</td><td>2021</td></tr><tr><th>15</th><td>1360</td><td>Geldtransit</td><td>58476</td><td>17006</td><td>2021</td></tr><tr><th>16</th><td>1400</td><td>Forderungen aus L+L</td><td>58476</td><td>17006</td><td>2021</td></tr><tr><th>17</th><td>1500</td><td>Sonstige Vermögensgegenstände</td><td>58476</td><td>17006</td><td>2021</td></tr><tr><th>18</th><td>1520</td><td>Forderungen ggb. Krankenkasse aus AAG</td><td>58476</td><td>17006</td><td>2021</td></tr><tr><th>19</th><td>1525</td><td>Kautionen</td><td>58476</td><td>17006</td><td>2021</td></tr><tr><th>20</th><td>1530</td><td>Forderg. gg. Personal Lohn- und Gehalt</td><td>58476</td><td>17006</td><td>2021</td></tr><tr><th>21</th><td>1544</td><td>Forderung gegenüber Bundesagentur</td><td>58476</td><td>17006</td><td>2021</td></tr><tr><th>22</th><td>1548</td><td>Vorst. in Folgeperiode /-jahr abziehbar</td><td>58476</td><td>17006</td><td>2021</td></tr><tr><th>23</th><td>1551</td><td>Darlehen Rlz bis 1 J. (sonstige VermG)</td><td>58476</td><td>17006</td><td>2021</td></tr><tr><th>24</th><td>1568</td><td>Abziehbare Vorsteuer 5%</td><td>58476</td><td>17006</td><td>2021</td></tr><tr><th>&vellip;</th><td>&vellip;</td><td>&vellip;</td><td>&vellip;</td><td>&vellip;</td><td>&vellip;</td></tr></tbody></table></div>"
      ],
      "text/latex": [
       "\\begin{tabular}{r|cccccc}\n",
       "\t& Kontonummer & Kontobezeichnung & BeraterNr & MandantenNr & Wirtschaftsjahr & \\\\\n",
       "\t\\hline\n",
       "\t& Int64 & String? & Int64 & Int64 & Int64 & \\\\\n",
       "\t\\hline\n",
       "\t1 & 210 & Maschinen & 58476 & 17006 & 2021 & $\\dots$ \\\\\n",
       "\t2 & 400 & Betriebsausstattung & 58476 & 17006 & 2021 & $\\dots$ \\\\\n",
       "\t3 & 420 & Büroeinrichtung & 58476 & 17006 & 2021 & $\\dots$ \\\\\n",
       "\t4 & 450 & Einbauten in fremde Grundstücke & 58476 & 17006 & 2021 & $\\dots$ \\\\\n",
       "\t5 & 480 & Geringwertige Wirtschaftsgüter & 58476 & 17006 & 2021 & $\\dots$ \\\\\n",
       "\t6 & 490 & Sonstige Betriebs-u.Gesch.ausstattung & 58476 & 17006 & 2021 & $\\dots$ \\\\\n",
       "\t7 & 650 & Verbindlichkeiten Kreditinstitut(g.5J) & 58476 & 17006 & 2021 & $\\dots$ \\\\\n",
       "\t8 & 880 & Variables Kapital (VH), EK & 58476 & 17006 & 2021 & $\\dots$ \\\\\n",
       "\t9 & 970 & Sonstige Rückstellungen & 58476 & 17006 & 2021 & $\\dots$ \\\\\n",
       "\t10 & 977 & Rückstellungen für Abschluss u. Prüfung & 58476 & 17006 & 2021 & $\\dots$ \\\\\n",
       "\t11 & 1000 & Kasse & 58476 & 17006 & 2021 & $\\dots$ \\\\\n",
       "\t12 & 1001 & Barzahlung & 58476 & 17006 & 2021 & $\\dots$ \\\\\n",
       "\t13 & 1200 & Berl. Sparkasse 6603199333 & 58476 & 17006 & 2021 & $\\dots$ \\\\\n",
       "\t14 & 1230 & Sparkasse  Mietkaution Kto ..6076 & 58476 & 17006 & 2021 & $\\dots$ \\\\\n",
       "\t15 & 1360 & Geldtransit & 58476 & 17006 & 2021 & $\\dots$ \\\\\n",
       "\t16 & 1400 & Forderungen aus L+L & 58476 & 17006 & 2021 & $\\dots$ \\\\\n",
       "\t17 & 1500 & Sonstige Vermögensgegenstände & 58476 & 17006 & 2021 & $\\dots$ \\\\\n",
       "\t18 & 1520 & Forderungen ggb. Krankenkasse aus AAG & 58476 & 17006 & 2021 & $\\dots$ \\\\\n",
       "\t19 & 1525 & Kautionen & 58476 & 17006 & 2021 & $\\dots$ \\\\\n",
       "\t20 & 1530 & Forderg. gg. Personal Lohn- und Gehalt & 58476 & 17006 & 2021 & $\\dots$ \\\\\n",
       "\t21 & 1544 & Forderung gegenüber Bundesagentur & 58476 & 17006 & 2021 & $\\dots$ \\\\\n",
       "\t22 & 1548 & Vorst. in Folgeperiode /-jahr abziehbar & 58476 & 17006 & 2021 & $\\dots$ \\\\\n",
       "\t23 & 1551 & Darlehen Rlz bis 1 J. (sonstige VermG) & 58476 & 17006 & 2021 & $\\dots$ \\\\\n",
       "\t24 & 1568 & Abziehbare Vorsteuer 5\\% & 58476 & 17006 & 2021 & $\\dots$ \\\\\n",
       "\t$\\dots$ & $\\dots$ & $\\dots$ & $\\dots$ & $\\dots$ & $\\dots$ &  \\\\\n",
       "\\end{tabular}\n"
      ],
      "text/plain": [
       "\u001b[1m244×20 DataFrame\u001b[0m\n",
       "\u001b[1m Row \u001b[0m│\u001b[1m Kontonummer \u001b[0m\u001b[1m Kontobezeichnung                  \u001b[0m\u001b[1m BeraterNr \u001b[0m\u001b[1m MandantenNr \u001b[0m\u001b[1m\u001b[0m ⋯\n",
       "\u001b[1m     \u001b[0m│\u001b[90m Int64       \u001b[0m\u001b[90m String?                           \u001b[0m\u001b[90m Int64     \u001b[0m\u001b[90m Int64       \u001b[0m\u001b[90m\u001b[0m ⋯\n",
       "─────┼──────────────────────────────────────────────────────────────────────────\n",
       "   1 │         210  Maschinen                              58476        17006  ⋯\n",
       "   2 │         400  Betriebsausstattung                    58476        17006\n",
       "   3 │         420  Büroeinrichtung                        58476        17006\n",
       "   4 │         450  Einbauten in fremde Grundstücke        58476        17006\n",
       "   5 │         480  Geringwertige Wirtschaftsgüter         58476        17006  ⋯\n",
       "   6 │         490  Sonstige Betriebs-u.Gesch.aussta…      58476        17006\n",
       "   7 │         650  Verbindlichkeiten Kreditinstitut…      58476        17006\n",
       "   8 │         880  Variables Kapital (VH), EK             58476        17006\n",
       "  ⋮  │      ⋮                       ⋮                      ⋮           ⋮       ⋱\n",
       " 238 │       74401  Vodafon                                58476        17006  ⋯\n",
       " 239 │       74402  Vattenfall Europe Sales                58476        17006\n",
       " 240 │       74403  VHV Versicherungen                     58476        17006\n",
       " 241 │       74600  W Diverse                              58476        17006\n",
       " 242 │       74601  Württembergische                       58476        17006  ⋯\n",
       " 243 │       74800  X, Y, Z Diverse                        58476        17006\n",
       " 244 │       74801  YSF-Autoteile                          58476        17006\n",
       "\u001b[36m                                                 16 columns and 229 rows omitted\u001b[0m"
      ]
     },
     "metadata": {},
     "output_type": "display_data"
    }
   ],
   "source": [
    "susa2 = DataFrame(Arrow.Table(\"../data/SuSa-2021.arrow\"))"
   ]
  }
 ],
 "metadata": {
  "kernelspec": {
   "display_name": "Julia 1.8.1",
   "language": "julia",
   "name": "julia-1.8"
  },
  "language_info": {
   "file_extension": ".jl",
   "mimetype": "application/julia",
   "name": "julia",
   "version": "1.8.1"
  },
  "orig_nbformat": 4
 },
 "nbformat": 4,
 "nbformat_minor": 2
}
