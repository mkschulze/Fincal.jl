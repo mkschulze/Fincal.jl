{
 "cells": [
  {
   "cell_type": "code",
   "execution_count": 4,
   "metadata": {},
   "outputs": [],
   "source": [
    "using DataFrames\n",
    "using CSV\n",
    "using Arrow\n",
    "# susa = DataFrame(CSV.File(\"../data/example-2021.csv\"; drop=[\"col3\", \"col4\"]))\n",
    "# susa2 = CSV.read(\"../data/SuSa-2021.csv\", DataFrame; drop=[Symbol(\"BeraterNr\"),:MandantenNr,:Wirtschaftsjahr])\n"
   ]
  },
  {
   "cell_type": "code",
   "execution_count": 7,
   "metadata": {},
   "outputs": [
    {
     "data": {
      "text/plain": [
       "\"../data/SuSa-2022.arrow\""
      ]
     },
     "metadata": {},
     "output_type": "display_data"
    }
   ],
   "source": [
    "convert = Arrow.write(\"../data/SuSa-2022.arrow\", CSV.File(\"../data/SuSa-2022.csv\"))"
   ]
  },
  {
   "cell_type": "code",
   "execution_count": 9,
   "metadata": {},
   "outputs": [
    {
     "ename": "MethodError",
     "evalue": "MethodError: no method matching Arrow.Table(::String, ::Type{DataFrame}; drop=[:BeraterNr, :MandantenNr, :Wirtschaftsjahr])\nClosest candidates are:\n  Arrow.Table(::Any, ::Any, !Matched::Any, !Matched::Any, !Matched::Any) at ~/.julia/packages/Arrow/ZlMFU/src/table.jl:229 got unsupported keyword argument \"drop\"\n  Arrow.Table(::Any, ::Any, !Matched::Any, !Matched::Any, !Matched::Any, !Matched::Any) at ~/.julia/packages/Arrow/ZlMFU/src/table.jl:219 got unsupported keyword argument \"drop\"\n  Arrow.Table(::Any) at ~/.julia/packages/Arrow/ZlMFU/src/table.jl:265 got unsupported keyword argument \"drop\"\n  ...",
     "output_type": "error",
     "traceback": [
      "MethodError: no method matching Arrow.Table(::String, ::Type{DataFrame}; drop=[:BeraterNr, :MandantenNr, :Wirtschaftsjahr])\n",
      "Closest candidates are:\n",
      "  Arrow.Table(::Any, ::Any, !Matched::Any, !Matched::Any, !Matched::Any) at ~/.julia/packages/Arrow/ZlMFU/src/table.jl:229 got unsupported keyword argument \"drop\"\n",
      "  Arrow.Table(::Any, ::Any, !Matched::Any, !Matched::Any, !Matched::Any, !Matched::Any) at ~/.julia/packages/Arrow/ZlMFU/src/table.jl:219 got unsupported keyword argument \"drop\"\n",
      "  Arrow.Table(::Any) at ~/.julia/packages/Arrow/ZlMFU/src/table.jl:265 got unsupported keyword argument \"drop\"\n",
      "  ...\n",
      "\n",
      "Stacktrace:\n",
      " [1] top-level scope\n",
      "   @ ~/dev/Fincal.jl/src/testfeld.ipynb:1"
     ]
    }
   ],
   "source": [
    "susa2 = CSV.read(\"../data/SuSa-2021.csv\", DataFrame; drop=[Symbol(\"BeraterNr\"),:MandantenNr,:Wirtschaftsjahr])"
   ]
  }
 ],
 "metadata": {
  "kernelspec": {
   "display_name": "Julia 1.8.1",
   "language": "julia",
   "name": "julia-1.8"
  },
  "language_info": {
   "file_extension": ".jl",
   "mimetype": "application/julia",
   "name": "julia",
   "version": "1.8.1"
  },
  "orig_nbformat": 4
 },
 "nbformat": 4,
 "nbformat_minor": 2
}
