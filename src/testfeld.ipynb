{
 "cells": [
  {
   "cell_type": "code",
   "execution_count": 40,
   "metadata": {},
   "outputs": [],
   "source": [
    "using DataFrames\n",
    "using CSV\n",
    "# susa = DataFrame(CSV.File(\"../data/example-2021.csv\"; drop=[\"col3\", \"col4\"]))\n"
   ]
  },
  {
   "cell_type": "code",
   "execution_count": 58,
   "metadata": {},
   "outputs": [
    {
     "data": {
      "text/html": [
       "<div class=\"data-frame\"><p>244 rows × 17 columns (omitted printing of 13 columns)</p><table class=\"data-frame\"><thead><tr><th></th><th>Kontonummer</th><th>Kontobezeichnung</th><th>Gebucht bis</th><th>Saldo JVZ</th></tr><tr><th></th><th title=\"Int64\">Int64</th><th title=\"Union{Missing, String}\">String?</th><th title=\"String15\">String15</th><th title=\"String15\">String15</th></tr></thead><tbody><tr><th>1</th><td>210</td><td>Maschinen</td><td>31.12.2021</td><td>4583,00</td></tr><tr><th>2</th><td>400</td><td>Betriebsausstattung</td><td>31.12.2021</td><td>0,00</td></tr><tr><th>3</th><td>420</td><td>B\\xfcroeinrichtung</td><td>31.12.2021</td><td>19,20</td></tr><tr><th>4</th><td>450</td><td>Einbauten in fremde Grundst\\xfccke</td><td>31.12.2021</td><td>1399,17</td></tr><tr><th>5</th><td>480</td><td>Geringwertige Wirtschaftsg\\xfcter</td><td>31.12.2021</td><td>47,08</td></tr><tr><th>6</th><td>490</td><td>Sonstige Betriebs-u.Gesch.ausstattung</td><td>31.12.2021</td><td>318,60</td></tr><tr><th>7</th><td>650</td><td>Verbindlichkeiten Kreditinstitut(g.5J)</td><td>31.12.2021</td><td>-300000,00</td></tr><tr><th>8</th><td>880</td><td>Variables Kapital (VH), EK</td><td>31.12.2021</td><td>-381567,74</td></tr><tr><th>9</th><td>970</td><td>Sonstige R\\xfcckstellungen</td><td>31.12.2021</td><td>20,00</td></tr><tr><th>10</th><td>977</td><td>R\\xfcckstellungen f\\xfcr Abschluss u. Pr\\xfcfung</td><td>31.12.2021</td><td>-1800,00</td></tr><tr><th>11</th><td>1000</td><td>Kasse</td><td>31.12.2021</td><td>-9590,00</td></tr><tr><th>12</th><td>1001</td><td>Barzahlung</td><td>31.12.2021</td><td>-125272,23</td></tr><tr><th>13</th><td>1200</td><td>Berl. Sparkasse 6603199333</td><td>31.12.2021</td><td>-153825,86</td></tr><tr><th>14</th><td>1230</td><td>Sparkasse  Mietkaution Kto ..6076</td><td>31.12.2021</td><td>4352,22</td></tr><tr><th>15</th><td>1360</td><td>Geldtransit</td><td>31.12.2021</td><td>-40609,55</td></tr><tr><th>16</th><td>1400</td><td>Forderungen aus L+L</td><td>31.12.2021</td><td>148710,98</td></tr><tr><th>17</th><td>1500</td><td>Sonstige Verm\\xf6gensgegenst\\xe4nde</td><td>31.12.2021</td><td>-1059,12</td></tr><tr><th>18</th><td>1520</td><td>Forderungen ggb. Krankenkasse aus AAG</td><td>31.12.2021</td><td>329,03</td></tr><tr><th>19</th><td>1525</td><td>Kautionen</td><td>31.12.2021</td><td>15000,00</td></tr><tr><th>20</th><td>1530</td><td>Forderg. gg. Personal Lohn- und Gehalt</td><td>31.12.2021</td><td>348,17</td></tr><tr><th>21</th><td>1544</td><td>Forderung gegen\\xfcber Bundesagentur</td><td>31.12.2021</td><td>4799,18</td></tr><tr><th>22</th><td>1548</td><td>Vorst. in Folgeperiode /-jahr abziehbar</td><td>31.12.2021</td><td>-7,30</td></tr><tr><th>23</th><td>1551</td><td>Darlehen Rlz bis 1 J. (sonstige VermG)</td><td>31.12.2021</td><td>0,00</td></tr><tr><th>24</th><td>1568</td><td>Abziehbare Vorsteuer 5%</td><td>31.12.2021</td><td>17,85</td></tr><tr><th>25</th><td>1571</td><td>Abziehbare Vorsteuer 7%</td><td>31.12.2021</td><td>72,50</td></tr><tr><th>26</th><td>1575</td><td>Abziehbare Vorsteuer 16%</td><td>31.12.2021</td><td>553,38</td></tr><tr><th>27</th><td>1576</td><td>Abziehbare Vorsteuer 19%</td><td>31.12.2021</td><td>85689,96</td></tr><tr><th>28</th><td>1577</td><td>Abziehbare Vorsteuer \\xa7 13b UStG 19%</td><td>31.12.2021</td><td>750,24</td></tr><tr><th>29</th><td>1590</td><td>Durchlaufende Posten</td><td>31.12.2021</td><td>247,22</td></tr><tr><th>30</th><td>1591</td><td>DLP f\\xfcr Fremdleister (HU,T\\xdcV)</td><td>31.12.2021</td><td>-747,50</td></tr><tr><th>&vellip;</th><td>&vellip;</td><td>&vellip;</td><td>&vellip;</td><td>&vellip;</td></tr></tbody></table></div>"
      ],
      "text/latex": [
       "\\begin{tabular}{r|ccccc}\n",
       "\t& Kontonummer & Kontobezeichnung & Gebucht bis & Saldo JVZ & \\\\\n",
       "\t\\hline\n",
       "\t& Int64 & String? & String15 & String15 & \\\\\n",
       "\t\\hline\n",
       "\t1 & 210 & Maschinen & 31.12.2021 & 4583,00 & $\\dots$ \\\\\n",
       "\t2 & 400 & Betriebsausstattung & 31.12.2021 & 0,00 & $\\dots$ \\\\\n",
       "\t3 & 420 & B\\textbackslash{}xfcroeinrichtung & 31.12.2021 & 19,20 & $\\dots$ \\\\\n",
       "\t4 & 450 & Einbauten in fremde Grundst\\textbackslash{}xfccke & 31.12.2021 & 1399,17 & $\\dots$ \\\\\n",
       "\t5 & 480 & Geringwertige Wirtschaftsg\\textbackslash{}xfcter & 31.12.2021 & 47,08 & $\\dots$ \\\\\n",
       "\t6 & 490 & Sonstige Betriebs-u.Gesch.ausstattung & 31.12.2021 & 318,60 & $\\dots$ \\\\\n",
       "\t7 & 650 & Verbindlichkeiten Kreditinstitut(g.5J) & 31.12.2021 & -300000,00 & $\\dots$ \\\\\n",
       "\t8 & 880 & Variables Kapital (VH), EK & 31.12.2021 & -381567,74 & $\\dots$ \\\\\n",
       "\t9 & 970 & Sonstige R\\textbackslash{}xfcckstellungen & 31.12.2021 & 20,00 & $\\dots$ \\\\\n",
       "\t10 & 977 & R\\textbackslash{}xfcckstellungen f\\textbackslash{}xfcr Abschluss u. Pr\\textbackslash{}xfcfung & 31.12.2021 & -1800,00 & $\\dots$ \\\\\n",
       "\t11 & 1000 & Kasse & 31.12.2021 & -9590,00 & $\\dots$ \\\\\n",
       "\t12 & 1001 & Barzahlung & 31.12.2021 & -125272,23 & $\\dots$ \\\\\n",
       "\t13 & 1200 & Berl. Sparkasse 6603199333 & 31.12.2021 & -153825,86 & $\\dots$ \\\\\n",
       "\t14 & 1230 & Sparkasse  Mietkaution Kto ..6076 & 31.12.2021 & 4352,22 & $\\dots$ \\\\\n",
       "\t15 & 1360 & Geldtransit & 31.12.2021 & -40609,55 & $\\dots$ \\\\\n",
       "\t16 & 1400 & Forderungen aus L+L & 31.12.2021 & 148710,98 & $\\dots$ \\\\\n",
       "\t17 & 1500 & Sonstige Verm\\textbackslash{}xf6gensgegenst\\textbackslash{}xe4nde & 31.12.2021 & -1059,12 & $\\dots$ \\\\\n",
       "\t18 & 1520 & Forderungen ggb. Krankenkasse aus AAG & 31.12.2021 & 329,03 & $\\dots$ \\\\\n",
       "\t19 & 1525 & Kautionen & 31.12.2021 & 15000,00 & $\\dots$ \\\\\n",
       "\t20 & 1530 & Forderg. gg. Personal Lohn- und Gehalt & 31.12.2021 & 348,17 & $\\dots$ \\\\\n",
       "\t21 & 1544 & Forderung gegen\\textbackslash{}xfcber Bundesagentur & 31.12.2021 & 4799,18 & $\\dots$ \\\\\n",
       "\t22 & 1548 & Vorst. in Folgeperiode /-jahr abziehbar & 31.12.2021 & -7,30 & $\\dots$ \\\\\n",
       "\t23 & 1551 & Darlehen Rlz bis 1 J. (sonstige VermG) & 31.12.2021 & 0,00 & $\\dots$ \\\\\n",
       "\t24 & 1568 & Abziehbare Vorsteuer 5\\% & 31.12.2021 & 17,85 & $\\dots$ \\\\\n",
       "\t25 & 1571 & Abziehbare Vorsteuer 7\\% & 31.12.2021 & 72,50 & $\\dots$ \\\\\n",
       "\t26 & 1575 & Abziehbare Vorsteuer 16\\% & 31.12.2021 & 553,38 & $\\dots$ \\\\\n",
       "\t27 & 1576 & Abziehbare Vorsteuer 19\\% & 31.12.2021 & 85689,96 & $\\dots$ \\\\\n",
       "\t28 & 1577 & Abziehbare Vorsteuer \\textbackslash{}xa7 13b UStG 19\\% & 31.12.2021 & 750,24 & $\\dots$ \\\\\n",
       "\t29 & 1590 & Durchlaufende Posten & 31.12.2021 & 247,22 & $\\dots$ \\\\\n",
       "\t30 & 1591 & DLP f\\textbackslash{}xfcr Fremdleister (HU,T\\textbackslash{}xdcV) & 31.12.2021 & -747,50 & $\\dots$ \\\\\n",
       "\t$\\dots$ & $\\dots$ & $\\dots$ & $\\dots$ & $\\dots$ &  \\\\\n",
       "\\end{tabular}\n"
      ],
      "text/plain": [
       "\u001b[1m244×17 DataFrame\u001b[0m\n",
       "\u001b[1m Row \u001b[0m│\u001b[1m Kontonummer \u001b[0m\u001b[1m Kontobezeichnung                  \u001b[0m\u001b[1m Gebucht bis \u001b[0m\u001b[1m Saldo JVZ \u001b[0m ⋯\n",
       "\u001b[1m     \u001b[0m│\u001b[90m Int64       \u001b[0m\u001b[90m String?                           \u001b[0m\u001b[90m String15    \u001b[0m\u001b[90m String15  \u001b[0m ⋯\n",
       "─────┼──────────────────────────────────────────────────────────────────────────\n",
       "   1 │         210  Maschinen                          31.12.2021   4583,00    ⋯\n",
       "   2 │         400  Betriebsausstattung                31.12.2021   0,00\n",
       "   3 │         420  B\\xfcroeinrichtung                 31.12.2021   19,20\n",
       "   4 │         450  Einbauten in fremde Grundst\\xfcc…  31.12.2021   1399,17\n",
       "   5 │         480  Geringwertige Wirtschaftsg\\xfcter  31.12.2021   47,08      ⋯\n",
       "   6 │         490  Sonstige Betriebs-u.Gesch.aussta…  31.12.2021   318,60\n",
       "   7 │         650  Verbindlichkeiten Kreditinstitut…  31.12.2021   -300000,00\n",
       "   8 │         880  Variables Kapital (VH), EK         31.12.2021   -381567,74\n",
       "   9 │         970  Sonstige R\\xfcckstellungen         31.12.2021   20,00      ⋯\n",
       "  10 │         977  R\\xfcckstellungen f\\xfcr Abschlu…  31.12.2021   -1800,00\n",
       "  11 │        1000  Kasse                              31.12.2021   -9590,00\n",
       "  ⋮  │      ⋮                       ⋮                       ⋮           ⋮      ⋱\n",
       " 235 │       73804  Stadt Vaihingen                    31.12.2021   0,00\n",
       " 236 │       74001  Telekom Deutschland GmbH           31.12.2021   -96,25     ⋯\n",
       " 237 │       74002  Tyre24 Automotive Network GmbH     31.12.2021   0,00\n",
       " 238 │       74401  Vodafon                            31.12.2021   0,00\n",
       " 239 │       74402  Vattenfall Europe Sales            31.12.2021   -210,33\n",
       " 240 │       74403  VHV Versicherungen                 31.12.2021   0,00       ⋯\n",
       " 241 │       74600  W Diverse                          31.12.2021   0,00\n",
       " 242 │       74601  W\\xfcrttembergische                31.12.2021   0,00\n",
       " 243 │       74800  X, Y, Z Diverse                    31.12.2021   0,00\n",
       " 244 │       74801  YSF-Autoteile                      31.12.2021   0,00       ⋯\n",
       "\u001b[36m                                                 13 columns and 223 rows omitted\u001b[0m"
      ]
     },
     "execution_count": 58,
     "metadata": {},
     "output_type": "execute_result"
    }
   ],
   "source": [
    "susa2 = CSV.read(\"../data/example-2021.csv\", DataFrame; drop=[Symbol(\"BeraterNr\"),:MandantenNr,:Wirtschaftsjahr])"
   ]
  }
 ],
 "metadata": {
  "kernelspec": {
   "display_name": "Julia 1.8.1",
   "language": "julia",
   "name": "julia-1.8"
  },
  "language_info": {
   "file_extension": ".jl",
   "mimetype": "application/julia",
   "name": "julia",
   "version": "1.8.1"
  },
  "orig_nbformat": 4
 },
 "nbformat": 4,
 "nbformat_minor": 2
}
